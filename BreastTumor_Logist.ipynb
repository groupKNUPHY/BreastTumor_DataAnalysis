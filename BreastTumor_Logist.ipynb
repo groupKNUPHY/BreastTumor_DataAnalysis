{
 "cells": [
  {
   "cell_type": "code",
   "execution_count": 1,
   "metadata": {},
   "outputs": [],
   "source": [
    "import tensorflow as tf\n",
    "import numpy as np\n",
    "tf.set_random_seed(777)"
   ]
  },
  {
   "cell_type": "code",
   "execution_count": 2,
   "metadata": {},
   "outputs": [],
   "source": [
    "def MinMaxScaler(data):\n",
    "    numerator = data - np.min(data,0)\n",
    "    denominator = np.max(data,0) - np.min(data,0)\n",
    "    return numerator / (denominator+1e-7)"
   ]
  },
  {
   "cell_type": "code",
   "execution_count": 3,
   "metadata": {},
   "outputs": [],
   "source": [
    "xy = np.loadtxt('sample.csv',delimiter=',',dtype=np.float32)"
   ]
  },
  {
   "cell_type": "code",
   "execution_count": 4,
   "metadata": {},
   "outputs": [
    {
     "name": "stdout",
     "output_type": "stream",
     "text": [
      "(72, 1)\n",
      "(72, 1)\n",
      "(72, 32)\n"
     ]
    }
   ],
   "source": [
    "train_x_data = xy[:,2:3]\n",
    "train_x_data = MinMaxScaler(train_x_data )\n",
    "train_y_data = xy[:,1:2]\n",
    "\n",
    "test_x_data = xy[:,2:3]\n",
    "test_x_data = MinMaxScaler(train_x_data )\n",
    "test_y_data = xy[:,1:2]\n",
    "\n",
    "print(train_x_data.shape)\n",
    "print(test_x_data.shape)\n",
    "print(xy.shape)"
   ]
  },
  {
   "cell_type": "markdown",
   "metadata": {},
   "source": [
    "make trainig and test dataset"
   ]
  },
  {
   "cell_type": "code",
   "execution_count": 5,
   "metadata": {},
   "outputs": [],
   "source": [
    "X = tf.placeholder(tf.float32, shape=[None,1])\n",
    "Y = tf.placeholder(tf.float32, shape=[None,1])\n",
    "\n",
    "W = tf.Variable(tf.random_normal([1,1]), name='weight')\n",
    "b = tf.Variable(tf.random_normal([1]), name='bias')\n",
    "hypothesis = tf.sigmoid(tf.matmul(X,W)+b)"
   ]
  },
  {
   "cell_type": "markdown",
   "metadata": {},
   "source": [
    "set hypothesis"
   ]
  },
  {
   "cell_type": "code",
   "execution_count": 6,
   "metadata": {},
   "outputs": [],
   "source": [
    "cost = -tf.reduce_mean(Y * tf.log(hypothesis) + (1-Y) * tf.log(1-hypothesis))"
   ]
  },
  {
   "cell_type": "markdown",
   "metadata": {},
   "source": [
    "set cost function"
   ]
  },
  {
   "cell_type": "code",
   "execution_count": 7,
   "metadata": {},
   "outputs": [],
   "source": [
    "train = tf.train.GradientDescentOptimizer(learning_rate=0.01).minimize(cost)"
   ]
  },
  {
   "cell_type": "markdown",
   "metadata": {},
   "source": [
    "minimize cost fuction"
   ]
  },
  {
   "cell_type": "code",
   "execution_count": 8,
   "metadata": {},
   "outputs": [],
   "source": [
    "predicted = tf.cast(hypothesis > 0.5, dtype=tf.float32)\n",
    "accuracy = tf.reduce_mean(tf.cast(tf.equal(predicted,Y), dtype=tf.float32))"
   ]
  },
  {
   "cell_type": "markdown",
   "metadata": {},
   "source": [
    "calculate prediction and accuracy"
   ]
  },
  {
   "cell_type": "code",
   "execution_count": 9,
   "metadata": {},
   "outputs": [
    {
     "name": "stdout",
     "output_type": "stream",
     "text": [
      "(0, 0.8748401)\n",
      "(200, 0.654317)\n",
      "(400, 0.57508665)\n",
      "(600, 0.5427513)\n",
      "(800, 0.52586687)\n",
      "(1000, 0.51446605)\n",
      "(1200, 0.50522554)\n",
      "(1400, 0.49697235)\n",
      "(1600, 0.48927122)\n",
      "(1800, 0.48195198)\n",
      "(2000, 0.47494304)\n",
      "(2200, 0.4682101)\n",
      "(2400, 0.46173346)\n",
      "(2600, 0.4554989)\n",
      "(2800, 0.449495)\n",
      "(3000, 0.44371128)\n",
      "(3200, 0.43813813)\n",
      "(3400, 0.4327663)\n",
      "(3600, 0.42758682)\n",
      "(3800, 0.42259133)\n",
      "(4000, 0.41777167)\n",
      "(4200, 0.41312015)\n",
      "(4400, 0.4086294)\n",
      "(4600, 0.40429235)\n",
      "(4800, 0.40010226)\n",
      "(5000, 0.39605275)\n",
      "(5200, 0.3921377)\n",
      "(5400, 0.38835132)\n",
      "(5600, 0.38468802)\n",
      "(5800, 0.38114256)\n",
      "(6000, 0.37770993)\n",
      "(6200, 0.3743853)\n",
      "(6400, 0.3711642)\n",
      "(6600, 0.36804232)\n",
      "(6800, 0.36501548)\n",
      "(7000, 0.3620798)\n",
      "(7200, 0.35923153)\n",
      "(7400, 0.35646722)\n",
      "(7600, 0.3537834)\n",
      "(7800, 0.35117695)\n",
      "(8000, 0.34864473)\n",
      "(8200, 0.34618384)\n",
      "(8400, 0.34379154)\n",
      "(8600, 0.3414652)\n",
      "(8800, 0.33920226)\n",
      "(9000, 0.33700034)\n",
      "(9200, 0.3348571)\n",
      "(9400, 0.33277047)\n",
      "(9600, 0.33073828)\n",
      "(9800, 0.32875857)\n",
      "(10000, 0.32682934)\n",
      "('hypothesis :', array([[0.19190146],\n",
      "       [0.5491231 ],\n",
      "       [0.6829621 ],\n",
      "       [0.3230531 ],\n",
      "       [0.25519636],\n",
      "       [0.19486667],\n",
      "       [0.8094337 ],\n",
      "       [0.09052363],\n",
      "       [0.10006892],\n",
      "       [0.18159273],\n",
      "       [0.1393606 ],\n",
      "       [0.4018885 ],\n",
      "       [0.3484821 ],\n",
      "       [0.16301748],\n",
      "       [0.30954736],\n",
      "       [0.23412834],\n",
      "       [0.296359  ],\n",
      "       [0.3236473 ],\n",
      "       [0.14873312],\n",
      "       [0.53699386],\n",
      "       [0.6404509 ],\n",
      "       [0.20976217],\n",
      "       [0.20397009],\n",
      "       [0.09112911],\n",
      "       [0.865826  ],\n",
      "       [0.14600338],\n",
      "       [0.24956018],\n",
      "       [0.10432926],\n",
      "       [0.07610111],\n",
      "       [0.23706271],\n",
      "       [0.18648621],\n",
      "       [0.26143968],\n",
      "       [0.17561713],\n",
      "       [0.16338837],\n",
      "       [0.16044036],\n",
      "       [0.24803755],\n",
      "       [0.6758642 ],\n",
      "       [0.13613522],\n",
      "       [0.68060535],\n",
      "       [0.2791097 ],\n",
      "       [0.1611733 ],\n",
      "       [0.0615027 ],\n",
      "       [0.06090974],\n",
      "       [0.15574181],\n",
      "       [0.29016787],\n",
      "       [0.30549923],\n",
      "       [0.22500347],\n",
      "       [0.25778577],\n",
      "       [0.24501094],\n",
      "       [0.11695673],\n",
      "       [0.11528441],\n",
      "       [0.10024023],\n",
      "       [0.1317256 ],\n",
      "       [0.13297299],\n",
      "       [0.14165628],\n",
      "       [0.20485342],\n",
      "       [0.09198745],\n",
      "       [0.20976217],\n",
      "       [0.11611797],\n",
      "       [0.11254339],\n",
      "       [0.09404936],\n",
      "       [0.29692563],\n",
      "       [0.15467359],\n",
      "       [0.26724866],\n",
      "       [0.14398342],\n",
      "       [0.33383423],\n",
      "       [0.70204085],\n",
      "       [0.73707825],\n",
      "       [0.6553178 ],\n",
      "       [0.4216186 ],\n",
      "       [0.6835498 ],\n",
      "       [0.06199042]], dtype=float32))\n",
      "('Correct(Y) :', array([[0.],\n",
      "       [1.],\n",
      "       [1.],\n",
      "       [0.],\n",
      "       [0.],\n",
      "       [0.],\n",
      "       [1.],\n",
      "       [0.],\n",
      "       [0.],\n",
      "       [0.],\n",
      "       [0.],\n",
      "       [0.],\n",
      "       [0.],\n",
      "       [0.],\n",
      "       [0.],\n",
      "       [0.],\n",
      "       [0.],\n",
      "       [0.],\n",
      "       [0.],\n",
      "       [1.],\n",
      "       [1.],\n",
      "       [0.],\n",
      "       [0.],\n",
      "       [0.],\n",
      "       [1.],\n",
      "       [0.],\n",
      "       [0.],\n",
      "       [0.],\n",
      "       [0.],\n",
      "       [0.],\n",
      "       [0.],\n",
      "       [0.],\n",
      "       [0.],\n",
      "       [0.],\n",
      "       [0.],\n",
      "       [0.],\n",
      "       [1.],\n",
      "       [0.],\n",
      "       [1.],\n",
      "       [0.],\n",
      "       [0.],\n",
      "       [0.],\n",
      "       [0.],\n",
      "       [0.],\n",
      "       [0.],\n",
      "       [0.],\n",
      "       [0.],\n",
      "       [0.],\n",
      "       [0.],\n",
      "       [0.],\n",
      "       [0.],\n",
      "       [0.],\n",
      "       [0.],\n",
      "       [0.],\n",
      "       [0.],\n",
      "       [0.],\n",
      "       [0.],\n",
      "       [0.],\n",
      "       [0.],\n",
      "       [0.],\n",
      "       [0.],\n",
      "       [0.],\n",
      "       [0.],\n",
      "       [0.],\n",
      "       [0.],\n",
      "       [0.],\n",
      "       [1.],\n",
      "       [1.],\n",
      "       [1.],\n",
      "       [0.],\n",
      "       [1.],\n",
      "       [0.]], dtype=float32))\n",
      "('Accuracy :', 0.9027778)\n"
     ]
    }
   ],
   "source": [
    "with tf.Session() as sess:\n",
    "    sess.run(tf.global_variables_initializer())\n",
    "    for step in range(10001):\n",
    "        cost_val ,_ = sess.run([cost,train],feed_dict={X : train_x_data, Y : train_y_data})\n",
    "        if step % 200 == 0:\n",
    "            print(step, cost_val)\n",
    "    h,c,a = sess.run([hypothesis, predicted, accuracy], feed_dict={X : test_x_data, Y : test_y_data})\n",
    "    print(\"hypothesis :\", h)\n",
    "    print(\"Correct(Y) :\", c)\n",
    "    print(\"Accuracy :\", a)"
   ]
  },
  {
   "cell_type": "code",
   "execution_count": null,
   "metadata": {},
   "outputs": [],
   "source": []
  }
 ],
 "metadata": {
  "kernelspec": {
   "display_name": "Python 2",
   "language": "python",
   "name": "python2"
  },
  "language_info": {
   "codemirror_mode": {
    "name": "ipython",
    "version": 2
   },
   "file_extension": ".py",
   "mimetype": "text/x-python",
   "name": "python",
   "nbconvert_exporter": "python",
   "pygments_lexer": "ipython2",
   "version": "2.7.15"
  }
 },
 "nbformat": 4,
 "nbformat_minor": 2
}
